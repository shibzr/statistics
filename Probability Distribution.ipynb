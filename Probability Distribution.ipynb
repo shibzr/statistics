{
 "cells": [
  {
   "cell_type": "markdown",
   "id": "3a2cfe34",
   "metadata": {},
   "source": [
    "<div style=\"background-color: LightSalmon; border-style: solid;font-family: Arial;text-align: center\">\n",
    "\n",
    "# Probability Distributions\n",
    "</div>\n"
   ]
  },
  {
   "cell_type": "markdown",
   "id": "29a480a9",
   "metadata": {},
   "source": [
    "---"
   ]
  },
  {
   "cell_type": "markdown",
   "id": "160f6c39",
   "metadata": {},
   "source": [
    "<div style=\"background-color: Seashell; border-style: solid;font-family: Arial\">\n",
    "    \n",
    "**Objective**\n",
    "------------------\n",
    "    \n",
    "The goal is to examine various probability distributions by showing the data distribution, use cases, advantages, and disadvantages of each probability distribution.\n",
    "Probability is the core of data science and quantitative modeling. Probability is the expectation of occurance of an event of some process.\n",
    "When it comes to probability distributions, it is simply the list or range of all possible outcomes of a process each with their corresponding probability. For example, the probability of a default of a company, the probability of a stock losing 10% of its value, the probability of Erling Haaland scoring a hat-trick in a match, etc.\n",
    "While there are many probability distributions for discrete and continuous variables, we could use historical data to approximate the most appropriate probability distribution that could best fit the real live data distribution. \n",
    "    \n",
    "**Probability Distributions**\n",
    "-------------------\n",
    "\n",
    "  - Uniform distribution\n",
    "  - Binomial distribution\n",
    "  - Multinomial distribution\n",
    "  - Bernoulli\n",
    "  - Poisson distribution\n",
    "  - Normal (Gaussian) distribution\n",
    "  - t distribution\n",
    "  - F distribution\n",
    "  - Chi-Square distribution\n",
    "  - Exponential distribution\n",
    "  - Log-normal distribution\n",
    "  - Beta distribution\n",
    "  - Gamma distribution\n",
    "  - Weibull distribution\n",
    "  - Largest extreme value distribution\n",
    "</div>"
   ]
  },
  {
   "cell_type": "markdown",
   "id": "56c87fc2",
   "metadata": {},
   "source": [
    "---"
   ]
  },
  {
   "cell_type": "markdown",
   "id": "2016a264",
   "metadata": {},
   "source": [
    "<div style=\"color:black; background-color: LightSalmon; border-style: solid;font-family: Arial;text-align: center\">\n",
    "    \n",
    "# Importing Libraries\n",
    "</div>"
   ]
  },
  {
   "cell_type": "code",
   "execution_count": 129,
   "id": "7c666702",
   "metadata": {},
   "outputs": [],
   "source": [
    "import pandas as pd\n",
    "import numpy as np\n",
    "import matplotlib.pyplot as plt"
   ]
  },
  {
   "cell_type": "markdown",
   "id": "1b00b593",
   "metadata": {},
   "source": [
    "---"
   ]
  },
  {
   "cell_type": "markdown",
   "id": "475f0557",
   "metadata": {},
   "source": [
    "<div style=\"color:black; background-color: LightSalmon; border-style: solid;font-family: Arial; text-align: center\">\n",
    "    \n",
    "# Implementing Probability Distributions\n",
    "</div>"
   ]
  },
  {
   "cell_type": "markdown",
   "id": "6ceabd79",
   "metadata": {},
   "source": [
    "<div style=\"background-color: NavajoWhite; border-style: solid;font-family: Arial\">\n",
    "    \n",
    "## Uniform distribution\n",
    "    \n",
    "</div>"
   ]
  },
  {
   "cell_type": "markdown",
   "id": "c51f9891-b9b1-45f3-ba1f-52e282176bc9",
   "metadata": {},
   "source": [
    "**The uniform distribution is defined as a distribution where every scenario or outcome has an eqaul likelihood or chance of occurrence**\n",
    "\n",
    "The uniform distribution can be either district of continous. Discrete uniform distribution is used for discrete outcomes such as rolling a dice or flipping a coin, while continous uniform distribution is used for an infinte number of small values within a specific range and each value has an equal chance of occurrence such as spinning a spinner with possibility of winning some amount of money. "
   ]
  },
  {
   "cell_type": "markdown",
   "id": "fb8ce6b6-ef33-4c91-af69-9220f5658082",
   "metadata": {},
   "source": [
    "**Discrete uniform distribution**"
   ]
  },
  {
   "cell_type": "markdown",
   "id": "1dc88ea9-4a13-4b35-861e-53eb91cf7eda",
   "metadata": {
    "tags": []
   },
   "source": [
    "[\"*The probability mass function (PMF)* is a function over the sample space of a discrete random variable X which gives the probability that X is equal to a certain value\"](https://www.ncl.ac.uk/webtemplate/ask-assets/external/maths-resources/statistics/distribution-functions/probability-mass-function.html)"
   ]
  },
  {
   "cell_type": "code",
   "execution_count": null,
   "id": "2e7b23a2-983e-4dcd-9d94-41a02bda9a31",
   "metadata": {},
   "outputs": [],
   "source": [
    "%%latex"
   ]
  },
  {
   "cell_type": "markdown",
   "id": "f831ede7-c29f-4ca4-bdbd-cb36ebd0b677",
   "metadata": {},
   "source": [
    "<div style=\"background-color: NavajoWhite; border-style: solid;font-family: Arial\">\n",
    "    \n",
    "## Exponential distribution\n",
    "    \n",
    "</div>"
   ]
  },
  {
   "cell_type": "markdown",
   "id": "9c484bca",
   "metadata": {},
   "source": [
    "<div style=\"background-color: NavajoWhite; border-style: solid;font-family: Arial\">\n",
    "    \n",
    "## Binomial distribution\n",
    "    \n",
    "</div>\n"
   ]
  },
  {
   "cell_type": "code",
   "execution_count": null,
   "id": "e7608d5b-d6f8-477f-843b-51b64e2d38eb",
   "metadata": {},
   "outputs": [],
   "source": []
  },
  {
   "cell_type": "markdown",
   "id": "444ca303",
   "metadata": {},
   "source": [
    "<div style=\"background-color: NavajoWhite; border-style: solid;font-family: Arial\">\n",
    "    \n",
    "## Multinomial distribution\n",
    "    \n",
    "</div>\n"
   ]
  },
  {
   "cell_type": "code",
   "execution_count": null,
   "id": "26c83451-2342-4948-9809-c4f012732be3",
   "metadata": {},
   "outputs": [],
   "source": []
  },
  {
   "cell_type": "markdown",
   "id": "6b1bb7ac-dfc9-4324-852e-b75a54619b38",
   "metadata": {},
   "source": [
    "<div style=\"background-color: NavajoWhite; border-style: solid;font-family: Arial\">\n",
    "    \n",
    "## Bernoulli\n",
    "    \n",
    "</div>"
   ]
  },
  {
   "cell_type": "code",
   "execution_count": null,
   "id": "5173be67-46e1-4195-99e1-276b49cb2002",
   "metadata": {},
   "outputs": [],
   "source": []
  },
  {
   "cell_type": "markdown",
   "id": "f0f0af9b-008c-4c59-9841-76640a6fa13d",
   "metadata": {},
   "source": [
    "<div style=\"background-color: NavajoWhite; border-style: solid;font-family: Arial\">\n",
    "    \n",
    "## Poisson distribution\n",
    "    \n",
    "</div>"
   ]
  },
  {
   "cell_type": "code",
   "execution_count": null,
   "id": "1e7c79cf-3fae-464c-a9bd-960ccaf34295",
   "metadata": {},
   "outputs": [],
   "source": []
  },
  {
   "cell_type": "markdown",
   "id": "fa8ef1dd-e797-4b04-8654-78bb00cf914c",
   "metadata": {},
   "source": [
    "<div style=\"background-color: NavajoWhite; border-style: solid;font-family: Arial\">\n",
    "    \n",
    "## Normal (Gaussian) distribution\n",
    "    \n",
    "</div>"
   ]
  },
  {
   "cell_type": "code",
   "execution_count": null,
   "id": "fe7ff56f-7485-4dcd-8ded-04ac944a7ac0",
   "metadata": {},
   "outputs": [],
   "source": []
  },
  {
   "cell_type": "markdown",
   "id": "5dc5de54-db86-4bfa-81a9-b64893cde16e",
   "metadata": {},
   "source": [
    "<div style=\"background-color: NavajoWhite; border-style: solid;font-family: Arial\">\n",
    "    \n",
    "## T distribution\n",
    "    \n",
    "</div>"
   ]
  },
  {
   "cell_type": "code",
   "execution_count": null,
   "id": "4a8e7271-8eb6-4cbb-add8-02b6ac41a886",
   "metadata": {},
   "outputs": [],
   "source": []
  },
  {
   "cell_type": "markdown",
   "id": "cc180b19-935a-4eaa-86e2-5f835bb3c820",
   "metadata": {},
   "source": [
    "<div style=\"background-color: NavajoWhite; border-style: solid;font-family: Arial\">\n",
    "    \n",
    "## F distribution\n",
    "    \n",
    "</div>"
   ]
  },
  {
   "cell_type": "code",
   "execution_count": null,
   "id": "2843cd44-049f-4028-a3bb-1903949564a6",
   "metadata": {},
   "outputs": [],
   "source": []
  },
  {
   "cell_type": "markdown",
   "id": "e40671d0-a8c8-4fc6-bcc4-828612d4a7e6",
   "metadata": {},
   "source": [
    "<div style=\"background-color: NavajoWhite; border-style: solid;font-family: Arial\">\n",
    "    \n",
    "## Chi-Square distribution\n",
    "    \n",
    "</div>"
   ]
  },
  {
   "cell_type": "code",
   "execution_count": null,
   "id": "cd1a2d74-8d28-42fd-bef7-974ebae1b068",
   "metadata": {},
   "outputs": [],
   "source": []
  },
  {
   "cell_type": "markdown",
   "id": "a51d572e-7063-4392-aa59-7139090895cf",
   "metadata": {},
   "source": [
    "<div style=\"background-color: NavajoWhite; border-style: solid;font-family: Arial\">\n",
    "    \n",
    "## Exponential distribution\n",
    "    \n",
    "</div>"
   ]
  },
  {
   "cell_type": "code",
   "execution_count": null,
   "id": "79bd2bc2-39f4-4251-b47a-2b17bde140a2",
   "metadata": {},
   "outputs": [],
   "source": []
  },
  {
   "cell_type": "markdown",
   "id": "d45384c2-024a-4e4a-9ee4-94233e919e93",
   "metadata": {},
   "source": [
    "<div style=\"background-color: NavajoWhite; border-style: solid;font-family: Arial\">\n",
    "    \n",
    "## Exponential distribution\n",
    "    \n",
    "</div>"
   ]
  },
  {
   "cell_type": "code",
   "execution_count": null,
   "id": "65cb6f30-93e1-462d-ab98-766c11c8a002",
   "metadata": {},
   "outputs": [],
   "source": []
  },
  {
   "cell_type": "markdown",
   "id": "e0f0e496-9938-4ee0-8102-110669433a5a",
   "metadata": {},
   "source": [
    "<div style=\"background-color: NavajoWhite; border-style: solid;font-family: Arial\">\n",
    "    \n",
    "## Log-normal distribution\n",
    "    \n",
    "</div>"
   ]
  },
  {
   "cell_type": "code",
   "execution_count": null,
   "id": "2102584c-9511-4689-a8dc-3fbd878754e6",
   "metadata": {},
   "outputs": [],
   "source": []
  },
  {
   "cell_type": "markdown",
   "id": "8ba3910f-fb6c-4644-a023-3bdb1abae29f",
   "metadata": {},
   "source": [
    "<div style=\"background-color: NavajoWhite; border-style: solid;font-family: Arial\">\n",
    "    \n",
    "## Beta distribution\n",
    "    \n",
    "</div>"
   ]
  },
  {
   "cell_type": "code",
   "execution_count": null,
   "id": "ebe5d4cc-de37-41ef-a127-36987b0bfa85",
   "metadata": {},
   "outputs": [],
   "source": []
  },
  {
   "cell_type": "markdown",
   "id": "105ea571-8246-44a0-9917-94c8a01bdaa3",
   "metadata": {},
   "source": [
    "<div style=\"background-color: NavajoWhite; border-style: solid;font-family: Arial\">\n",
    "    \n",
    "## Gamma distribution\n",
    "    \n",
    "</div>"
   ]
  },
  {
   "cell_type": "code",
   "execution_count": null,
   "id": "db0357ad-aa88-43ff-9915-b40e925585f9",
   "metadata": {},
   "outputs": [],
   "source": []
  },
  {
   "cell_type": "markdown",
   "id": "81aea6a4-86dd-411a-b96b-0237455b0bcf",
   "metadata": {},
   "source": [
    "<div style=\"background-color: NavajoWhite; border-style: solid;font-family: Arial\">\n",
    "    \n",
    "## Weibull distribution\n",
    "    \n",
    "</div>"
   ]
  },
  {
   "cell_type": "code",
   "execution_count": null,
   "id": "24d82873-0c8d-45b7-ba42-eb5352ba8d7d",
   "metadata": {},
   "outputs": [],
   "source": []
  },
  {
   "cell_type": "markdown",
   "id": "6c49f82e-a95a-4c52-8f87-2f62c3e4d946",
   "metadata": {},
   "source": [
    "<div style=\"background-color: NavajoWhite; border-style: solid;font-family: Arial\">\n",
    "    \n",
    "## Largest extreme value distribution\n",
    "    \n",
    "</div>"
   ]
  },
  {
   "cell_type": "code",
   "execution_count": null,
   "id": "c7de0862-f863-42c0-8d98-75de72f77514",
   "metadata": {},
   "outputs": [],
   "source": []
  }
 ],
 "metadata": {
  "kernelspec": {
   "display_name": "drcc - Python",
   "language": "python",
   "name": "conda-env-drcc-py"
  },
  "language_info": {
   "codemirror_mode": {
    "name": "ipython",
    "version": 3
   },
   "file_extension": ".py",
   "mimetype": "text/x-python",
   "name": "python",
   "nbconvert_exporter": "python",
   "pygments_lexer": "ipython3",
   "version": "3.8.15"
  },
  "toc": {
   "base_numbering": 1,
   "nav_menu": {},
   "number_sections": true,
   "sideBar": true,
   "skip_h1_title": false,
   "title_cell": "Table of Contents",
   "title_sidebar": "Contents",
   "toc_cell": false,
   "toc_position": {},
   "toc_section_display": true,
   "toc_window_display": true
  }
 },
 "nbformat": 4,
 "nbformat_minor": 5
}
