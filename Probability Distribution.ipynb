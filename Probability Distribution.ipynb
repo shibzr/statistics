{
 "cells": [
  {
   "cell_type": "markdown",
   "id": "3a2cfe34",
   "metadata": {},
   "source": [
    "<div style=\"background-color: LightSalmon; border-style: solid;font-family: Arial;text-align: center\">\n",
    "\n",
    "# Probability Distributions\n",
    "</div>\n"
   ]
  },
  {
   "cell_type": "markdown",
   "id": "29a480a9",
   "metadata": {},
   "source": [
    "---"
   ]
  },
  {
   "cell_type": "markdown",
   "id": "160f6c39",
   "metadata": {},
   "source": [
    "<div style=\"background-color: Seashell; border-style: solid;font-family: Arial\">\n",
    "    \n",
    "**Objective**\n",
    "------------------\n",
    "    \n",
    "The goal is to examine various probability distributions by showing the data distribution, use cases, advantages, and disadvantages of each probability distribution.\n",
    "Probability is the core of data science and quantitative modeling. Probability is the expectation of occurance of an event of some process.\n",
    "When it comes to probability distributions, it is simply the list or range of all possible outcomes of a process each with their corresponding probability. For example, the probability of a default of a company, the probability of a stock losing 10% of its value, the probability of Erling Haaland scoring a hat-trick in a match, etc.\n",
    "While there are many probability distributions for discrete and continuous variables, we could use historical data to approximate the most appropriate probability distribution that could best fit the real live data distribution. \n",
    "\n",
    "**Probability Distributions**\n",
    "-------------------\n",
    "\n",
    "  - Uniform distribution\n",
    "  - Binomial distribution\n",
    "  - Multinomial distribution\n",
    "  - Bernoulli\n",
    "  - Poisson distribution\n",
    "  - Normal (Gaussian) distribution\n",
    "  - t distribution\n",
    "  - F distribution\n",
    "  - Chi-Square distribution\n",
    "  - Exponential distribution\n",
    "  - Log-normal distribution\n",
    "  - Beta distribution\n",
    "  - Gamma distribution\n",
    "  - Weibull distribution\n",
    "  - Largest extreme value distribution\n",
    "    \n",
    "\n",
    "----\n",
    "Disclaimer: A few functions were generated using ChatGPT for efficiency and productivity gain.\n",
    "</div>"
   ]
  },
  {
   "cell_type": "markdown",
   "id": "56c87fc2",
   "metadata": {},
   "source": [
    "---"
   ]
  },
  {
   "cell_type": "markdown",
   "id": "2016a264",
   "metadata": {},
   "source": [
    "<div style=\"color:black; background-color: LightSalmon; border-style: solid;font-family: Arial;text-align: center\">\n",
    "    \n",
    "# Importing Libraries\n",
    "</div>"
   ]
  },
  {
   "cell_type": "code",
   "execution_count": 4,
   "id": "7c666702",
   "metadata": {},
   "outputs": [],
   "source": [
    "import pandas as pd\n",
    "import numpy as np\n",
    "from scipy import stats\n",
    "import matplotlib.pyplot as plt"
   ]
  },
  {
   "cell_type": "code",
   "execution_count": 22,
   "id": "1dfd8af6",
   "metadata": {},
   "outputs": [],
   "source": [
    "#Setting default plot size\n",
    "plt.rcParams['figure.figsize'] = (12, 6)  # Width, Height in inches\n",
    "plt.rcParams['font.size'] = 12\n",
    "plt.rcParams['font.family'] = 'sans-serif'\n",
    "plt.rcParams['font.sans-serif'] = 'Arial'"
   ]
  },
  {
   "cell_type": "markdown",
   "id": "1b00b593",
   "metadata": {},
   "source": [
    "---"
   ]
  },
  {
   "cell_type": "markdown",
   "id": "475f0557",
   "metadata": {},
   "source": [
    "<div style=\"color:black; background-color: LightSalmon; border-style: solid;font-family: Arial; text-align: center\">\n",
    "    \n",
    "# Implementing Probability Distributions\n",
    "</div>"
   ]
  },
  {
   "cell_type": "markdown",
   "id": "6ceabd79",
   "metadata": {},
   "source": [
    "<div style=\"background-color: NavajoWhite; border-style: solid;font-family: Arial\">\n",
    "    \n",
    "## Uniform distribution\n",
    "    \n",
    "</div>"
   ]
  },
  {
   "cell_type": "markdown",
   "id": "c51f9891-b9b1-45f3-ba1f-52e282176bc9",
   "metadata": {},
   "source": [
    "**The uniform distribution is defined as a distribution where every scenario or outcome has an eqaul likelihood or chance of occurrence**\n",
    "\n",
    "The uniform distribution can be either district of continous. Discrete uniform distribution is used for discrete outcomes such as rolling a dice or flipping a coin, while continous uniform distribution is used for an infinte number of small values within a specific range and each value has an equal chance of occurrence such as spinning a spinner with possibility of winning some amount of money. "
   ]
  },
  {
   "cell_type": "markdown",
   "id": "fb8ce6b6-ef33-4c91-af69-9220f5658082",
   "metadata": {},
   "source": [
    "**Discrete uniform distribution**"
   ]
  },
  {
   "cell_type": "markdown",
   "id": "1dc88ea9-4a13-4b35-861e-53eb91cf7eda",
   "metadata": {
    "tags": []
   },
   "source": [
    "[\"*The probability mass function (PMF)* is a function over the sample space of a discrete random variable X which gives the probability that X is equal to a certain value\"](https://www.ncl.ac.uk/webtemplate/ask-assets/external/maths-resources/statistics/distribution-functions/probability-mass-function.html)"
   ]
  },
  {
   "cell_type": "markdown",
   "id": "b0ef8ec2",
   "metadata": {},
   "source": [
    "*Probability Mass Function (PMF)*\n",
    "\n",
    "Let \n",
    "X\n",
    " be a discrete random variable on a sample space \n",
    "S\n",
    ". Then the probability mass function \n",
    "f\n",
    "(\n",
    "x\n",
    ")\n",
    " is defined as\n",
    "$$\n",
    "f\n",
    "(\n",
    "x\n",
    ")\n",
    "=\n",
    "P\n",
    "[\n",
    "X\n",
    "=\n",
    "x\n",
    "]\n",
    ".\n",
    "$$\n",
    "Each probability mass function satisfies the following two conditions:\n",
    "\n",
    " (i) $$\n",
    "f\n",
    "(\n",
    "x\n",
    ")\n",
    "≥\n",
    "0$$\n",
    " for all \n",
    "x\n",
    "∈\n",
    "S\n",
    "\n",
    ",\n",
    "\n",
    " (ii) $$\n",
    "∑\n",
    "x\n",
    "∈\n",
    "S$$\n",
    " \n",
    "$$f\n",
    "(\n",
    "x\n",
    ")\n",
    "=\n",
    "1$$\n",
    ".\n",
    "\n",
    "i.e. for all \n",
    "x\n",
    " in the sample space, \n",
    "f\n",
    "(\n",
    "x\n",
    ")\n",
    " is never negative and the sum of \n",
    "f\n",
    "(\n",
    "x\n",
    ")\n",
    " over the entire sample space will always be \n",
    "1\n",
    "."
   ]
  },
  {
   "cell_type": "markdown",
   "id": "668f9e60",
   "metadata": {},
   "source": [
    "The discrete uniform distribution is a probability distribution where all outcomes have equal probability.\n",
    "\n",
    "For a discrete uniform distribution defined over a set of $n$ possible outcomes, the probability mass function (PMF) is given by:"
   ]
  },
  {
   "cell_type": "markdown",
   "id": "8de36365",
   "metadata": {},
   "source": [
    "$$\n",
    "P(X = x) = \\begin{cases}\n",
    "\\frac{1}{n} & \\text{if } x \\text{ is a valid outcome} \\\\\n",
    "0 & \\text{otherwise}\n",
    "\\end{cases}\n",
    "$$"
   ]
  },
  {
   "cell_type": "code",
   "execution_count": 33,
   "id": "c2c5dc27",
   "metadata": {},
   "outputs": [],
   "source": [
    "def discrete_uniform_distribution(number_values: int):\n",
    "    discrete_x_values = np.arange(1, number_values)\n",
    "    discrete_uniform_dist = stats.randint(1, number_values)\n",
    "    pmf = discrete_uniform_dist.pmf(discrete_x_values)\n",
    "    fig, ax = plt.subplots(nrows=1, ncols=1)\n",
    "    ax.bar(discrete_x_values,pmf)\n",
    "    ax.set_xlabel(\"X_values\")\n",
    "    ax.set_ylabel(\"Probability\")\n",
    "    ax.set_title(\"Discrete Uniform Distribution\")\n",
    "    plt.tight_layout()\n",
    "    plt.show()    \n",
    "    "
   ]
  },
  {
   "cell_type": "code",
   "execution_count": 34,
   "id": "359eeb36",
   "metadata": {},
   "outputs": [
    {
     "data": {
      "image/png": "[encoded data removed]",
      "text/plain": [
       "<Figure size 864x432 with 1 Axes>"
      ]
     },
     "metadata": {
      "needs_background": "light"
     },
     "output_type": "display_data"
    }
   ],
   "source": [
    "discrete_uniform_distribution(11)"
   ]
  },
  {
   "cell_type": "markdown",
   "id": "efb1756a",
   "metadata": {},
   "source": [
    "**Continuous uniform distribution**"
   ]
  },
  {
   "cell_type": "markdown",
   "id": "76961e43",
   "metadata": {},
   "source": [
    "The uniform distribution can also be continuous and not necessairly discrete. This implies an infinite number of possible values. In such scenario, we use the *Probability Density Function (PDF)* because we are working with continous values and not discete values."
   ]
  },
  {
   "cell_type": "markdown",
   "id": "f1ed2756",
   "metadata": {},
   "source": [
    "*Probability Density Function (PDF)*"
   ]
  },
  {
   "cell_type": "markdown",
   "id": "3c2faf74",
   "metadata": {},
   "source": [
    "$$\n",
    "f(x) = \\begin{cases}\n",
    "\\frac{1}{b - a} & \\text{for } a \\leq x \\leq b \\\\\n",
    "0 & \\text{otherwise}\n",
    "\\end{cases}\n",
    "$$\n",
    "\n",
    "$$\\text{where}$$\n",
    "\n",
    "$$\\text{a : Lower bound of the distribution }$$\n",
    "$$\\text{b : Upper bound of the distribution}$$"
   ]
  },
  {
   "cell_type": "markdown",
   "id": "e45ecf66",
   "metadata": {},
   "source": [
    "*Cumulative Distribution Function (CDF)*"
   ]
  },
  {
   "cell_type": "markdown",
   "id": "a5119fbc",
   "metadata": {},
   "source": [
    "The CDF is a representation of the the cumulative distribution function. While the PDF calculates the probability of X equals to a specific value, the CDF calculates the probability of X less than or equal to a specific value for this it is called cumulative as it encompasses all the probabilities of values less than X."
   ]
  },
  {
   "cell_type": "code",
   "execution_count": 39,
   "id": "19647121",
   "metadata": {},
   "outputs": [],
   "source": [
    "def continuous_uniform_distribution(a: float, b: float):\n",
    "    \"\"\"\n",
    "    Params:\n",
    "    ------\n",
    "        a (float): lower bound\n",
    "        b (float): upper bound\n",
    "        \n",
    "    returns:\n",
    "    -------\n",
    "        PDF & CDF plots for continuous uniform distribution\n",
    "    \"\"\"\n",
    "    x_values = np.linspace(a, b, 1000)  # Generate x values within the range [a, b] of evenly spaced numbers\n",
    "    uniform_dist = stats.uniform(a, b - a)  # Create continuous uniform distribution object\n",
    "    pdf = uniform_dist.pdf(x_values)  # Calculate probability density function (PDF)\n",
    "    cdf = uniform_dist.cdf(x_values)  # Calculate cumulative distribution function (CDF)\n",
    "\n",
    "    # Plot PDF\n",
    "    fig, ax = plt.subplots(nrows=2, ncols=1)\n",
    "    ax[0].plot(x_values, pdf)\n",
    "    ax[0].set_xlabel(\"X values\")\n",
    "    ax[0].set_ylabel(\"Probability Density\")\n",
    "    ax[0].set_title(\"Continuous Uniform Distribution (PDF)\")\n",
    "\n",
    "    # Plot CDF\n",
    "    ax[1].plot(x_values, cdf)\n",
    "    ax[1].set_xlabel(\"X values\")\n",
    "    ax[1].set_ylabel(\"Cumulative Probability\")\n",
    "    ax[1].set_title(\"Continuous Uniform Distribution (CDF)\")\n",
    "\n",
    "    plt.tight_layout()\n",
    "    plt.show()\n",
    "\n"
   ]
  },
  {
   "cell_type": "code",
   "execution_count": 47,
   "id": "ab16b566",
   "metadata": {},
   "outputs": [
    {
     "data": {
      "image/png": "[encoded data removed]",
      "text/plain": [
       "<Figure size 864x432 with 2 Axes>"
      ]
     },
     "metadata": {
      "needs_background": "light"
     },
     "output_type": "display_data"
    }
   ],
   "source": [
    "continuous_uniform_distribution(0, 10)"
   ]
  },
  {
   "cell_type": "markdown",
   "id": "ff8f6f26",
   "metadata": {},
   "source": [
    "We can observe that all evenly spaced values over the range of [0, 10] have an equal PDF value of 0.10 for an infinite number of values. The CDF is a steady slope line which accumulates the probabilities till reaching 1 at the upper bound of 10 because the CDF of a values less than or equal to 1 covers all the possible values over the range."
   ]
  },
  {
   "cell_type": "markdown",
   "id": "f831ede7-c29f-4ca4-bdbd-cb36ebd0b677",
   "metadata": {},
   "source": [
    "<div style=\"background-color: NavajoWhite; border-style: solid;font-family: Arial\">\n",
    "    \n",
    "## Exponential distribution\n",
    "    \n",
    "</div>"
   ]
  },
  {
   "cell_type": "markdown",
   "id": "eccab379",
   "metadata": {},
   "source": [
    "The exponential distribution is a continuous probability distribution that models the time between two events in a Poisson process. Some examples of exponential distributios include but not limited to:\n",
    "- The waiting time to a call center to pickup the call\n",
    "- The time for a patient to recover from an illness\n",
    "- The time until the occurence of extreme events\n",
    "- The time until a big natural disaster\n",
    "\n",
    "[\"Typical questions may be, “what is the probability that some event will occur within the next  x\n",
    "hours or days, or what is the probability that some event will occur between  x1\n",
    "hours and  x2\n",
    "hours, or what is the probability that the event will take more than  x1\n",
    "hours to perform?”](https://openstax.org/books/introductory-business-statistics/pages/5-3-the-exponential-distribution#:~:text=For%20example%2C%20the%20amount%20of,months%2C%20a%20car%20battery%20lasts.)"
   ]
  },
  {
   "cell_type": "markdown",
   "id": "0e304483",
   "metadata": {},
   "source": [
    "*Probability Density Function(PDF)*\n",
    "\n",
    "$$f(x; \\lambda) = \\lambda e^{-\\lambda x} \\quad \\text{for } x \\geq 0$$\n",
    "\n",
    "$$\\text{where}$$\n",
    "\n",
    "$$\\lambda:  \\text{represents the rate / decay parameter which measures}\n",
    "\\newline \\text{\"measures how rapidly the probability of an event declines as the random variable X increases.\"} $$\n",
    "\n",
    "$$\\text{It is equal to where 1/μ where μ is the historical average} $$\n"
   ]
  },
  {
   "cell_type": "markdown",
   "id": "fdf24c25",
   "metadata": {},
   "source": [
    "*Cumulative Density Function(CDF)*"
   ]
  },
  {
   "cell_type": "markdown",
   "id": "63815ade",
   "metadata": {},
   "source": [
    "$$\n",
    "F(x; \\lambda) = 1 - e^{-\\lambda x} \\quad \\text{for } x \\geq 0\n",
    "$$\n",
    "\n",
    "$$\\text{it shows the probability of a random variable less than or equal to x}$$"
   ]
  },
  {
   "cell_type": "markdown",
   "id": "8e3d621c",
   "metadata": {},
   "source": [
    "Let's implement the example described by [Openstax](https://openstax.org/books/introductory-business-statistics/pages/5-3-the-exponential-distribution#:~:text=For%20example%2C%20the%20amount%20of,months%2C%20a%20car%20battery%20lasts.)\n",
    "\n",
    "**Example**\n",
    "\n",
    "\"On the average, a certain computer part lasts ten years. The length of time the computer part lasts is exponentially distributed.\n",
    "\n",
    "Problem\n",
    "a. What is the probability that a computer part lasts more than 7 years?\n",
    "\""
   ]
  },
  {
   "cell_type": "code",
   "execution_count": 60,
   "id": "816d8a57",
   "metadata": {
    "scrolled": false
   },
   "outputs": [
    {
     "data": {
      "image/png": "[encoded data removed]",
      "text/plain": [
       "<Figure size 864x432 with 2 Axes>"
      ]
     },
     "metadata": {
      "needs_background": "light"
     },
     "output_type": "display_data"
    },
    {
     "name": "stdout",
     "output_type": "stream",
     "text": [
      "Probability of a computer part lasting more than 7 years: 0.4965853037914095\n"
     ]
    }
   ],
   "source": [
    "def exponential_distribution_probability(mean_life_span: float, x: float):\n",
    "    scale = mean_life_span  # Scale: mean lifespan of computer parameter for exponential distribution\n",
    "    exponential_dist = stats.expon(scale=scale)  #exponential distribution\n",
    "    probability = 1 - exponential_dist.cdf(x)  # Calculate the probability of exceeding x ( 1 - probability of less than X)\n",
    "\n",
    "    # Plot exponential distribution\n",
    "    x_values = np.linspace(0, x + 10, 100)  # Generate x values for plotting\n",
    "    pdf = exponential_dist.pdf(x_values)  # Calculate probability density function (PDF)\n",
    "    cdf = exponential_dist.cdf(x_values)  # Calculate cumulative distribution function (CDF)\n",
    "\n",
    "    fig, ax = plt.subplots(nrows=1, ncols=2)\n",
    "    ax[0].plot(x_values, pdf)\n",
    "    ax[0].fill_between(x_values[x_values > x], pdf[x_values > x], alpha=0.5, color='orange')\n",
    "    ax[0].set_xlabel(\"Years\")\n",
    "    ax[0].set_ylabel(\"Probability Density\")\n",
    "    ax[0].set_title(\"Exponential Distribution (PDF)\")\n",
    "\n",
    "    ax[1].plot(x_values, cdf)\n",
    "    ax[1].fill_between(x_values[x_values > x], cdf[x_values > x], alpha=0.5, color='orange')\n",
    "    ax[1].set_xlabel(\"Years\")\n",
    "    ax[1].set_ylabel(\"Cumulative Probability\")\n",
    "    ax[1].set_title(\"Exponential Distribution (CDF)\")\n",
    "\n",
    "    plt.tight_layout()\n",
    "    plt.show()\n",
    "\n",
    "    return probability\n",
    "\n",
    "# Calculate the probability that a computer part lasts more than 7 years\n",
    "probability_more_than_7 = exponential_distribution_probability(10, 7)\n",
    "print(\"Probability of a computer part lasting more than 7 years:\", probability_more_than_7)"
   ]
  },
  {
   "cell_type": "markdown",
   "id": "c7d55242",
   "metadata": {},
   "source": [
    "We can see that the line is gradually descending if the PDF function while increasing in the CDF and that is the nature of the exponential distribution because of these reasons:\n",
    "\n",
    "- PDF: It is the probability density at each point. It is decreasing because as we head towards larger (more extreme) values the probability of the event occuring decreases, resulting in a gradual decrease in the PDF.\n",
    "\n",
    "- CDF: It is the cumulative probability of a variable being less than or equal a specific value. It is increasing because the probabilities are accumulated as we move towards the X-axis. "
   ]
  },
  {
   "cell_type": "markdown",
   "id": "9c484bca",
   "metadata": {},
   "source": [
    "<div style=\"background-color: NavajoWhite; border-style: solid;font-family: Arial\">\n",
    "    \n",
    "## Binomial distribution\n",
    "    \n",
    "</div>\n"
   ]
  },
  {
   "cell_type": "markdown",
   "id": "955b26b1",
   "metadata": {},
   "source": [
    "The binomial distribution is a descrete probability distribution, usually in the form of probability of Yes/No, 1/0, success/failure, etc. \n",
    "It is the probability distribution of a set of independent Bernouli trials/experiments where each experiment produce one of the same two possible outcomes (success/failure).\n",
    "For example, [the outcomes of tossing a fair coin twice. This is a binomial experiment. There are 4 possible outcomes of this experiment. {HH, HT, TH, TT}](https://www.cuemath.com/algebra/binomial-distribution/)\n",
    "\n",
    "No. of heads(n(X))\n",
    "\n",
    "Probability of getting a head(P(X))\n",
    "\n",
    "P(x = 0) = 1/4 = 0.25\n",
    "\n",
    "P(x = 1) = P(HT) = 1/4 + 1/4 = 0.50\n",
    "\n",
    "P(x = 2) = P(HH) = 1/4 = 0.25"
   ]
  },
  {
   "cell_type": "markdown",
   "id": "47317390",
   "metadata": {},
   "source": [
    "*Probability Mass Function (PMF)*\n",
    "\n",
    "Here, we come back to the notion of discrete distribution since we are working with discrete outcomes.\n",
    "\n",
    "$$P(X = x) = \\binom{n}{x} \\cdot p^x \\cdot (1 - p)^{n-x}$$\n",
    "\n",
    "$$\\text{where}$$\n",
    "\n",
    "$$\\text{n : number of trials }$$\n",
    "$$\\text{x : number of successes}$$\n",
    "$$ p^{x} : \\text{probability of x successes} $$\n",
    "$$ (1 - p)^{n-x}: \\text{probability of failures} $$"
   ]
  },
  {
   "cell_type": "markdown",
   "id": "8dd36e7e",
   "metadata": {},
   "source": [
    "*Cumulative Distribution Function (CDF)*\n",
    "\n",
    "It is the sum of porbabilities of values from 0 to x (number of successes). It is defined as \n",
    "\n",
    "$$P(X \\leq x) = \\sum_{i=0}^{x} \\binom{n}{i} \\cdot p^i \\cdot (1 - p)^{n-i}$$"
   ]
  },
  {
   "cell_type": "code",
   "execution_count": 65,
   "id": "fb0d0c85",
   "metadata": {},
   "outputs": [],
   "source": [
    "def binomial_distribution(n: int, p: float):\n",
    "    \"\"\"\n",
    "    Plot the probability mass function (PMF) and cumulative distribution function (CDF)\n",
    "    of a binomial distribution.\n",
    "\n",
    "    Parameters:\n",
    "        n (int): Number of trials.\n",
    "        p (float): Probability of success in each trial.\n",
    "\n",
    "    Returns:\n",
    "        None: Displays the plots.\n",
    "\n",
    "    \"\"\"\n",
    "    \n",
    "    x_values = np.arange(0, n+1)\n",
    "    binom_dist = stats.binom(n, p)\n",
    "    pmf = binom_dist.pmf(x_values)\n",
    "    cdf = binom_dist.cdf(x_values)\n",
    "\n",
    "    fig, ax = plt.subplots(nrows=1, ncols=2)\n",
    "    \n",
    "    ax[0].bar(x_values, pmf)\n",
    "    ax[0].set_xlabel(\"Number of Successes (k)\")\n",
    "    ax[0].set_ylabel(\"Probability\")\n",
    "    ax[0].set_title(\"Binomial Distribution - Probability Mass Function (PMF)\")\n",
    "\n",
    "    ax[1].plot(x_values, cdf, marker='o', linestyle='-', drawstyle='steps-post')\n",
    "    ax[1].set_xlabel(\"Number of Successes (k)\")\n",
    "    ax[1].set_ylabel(\"Cumulative Probability\")\n",
    "    ax[1].set_title(\"Binomial Distribution - Cumulative Distribution Function (CDF)\")\n",
    "    ax[1].set_ylim(0, 1)\n",
    "    \n",
    "    plt.tight_layout()\n",
    "    plt.show()"
   ]
  },
  {
   "cell_type": "markdown",
   "id": "a0dfac61",
   "metadata": {},
   "source": [
    "*Example with 50% probability of success in each trial*"
   ]
  },
  {
   "cell_type": "code",
   "execution_count": 66,
   "id": "aedd6cd6",
   "metadata": {},
   "outputs": [
    {
     "data": {
      "image/png": "[encoded data removed]",
      "text/plain": [
       "<Figure size 864x432 with 2 Axes>"
      ]
     },
     "metadata": {
      "needs_background": "light"
     },
     "output_type": "display_data"
    }
   ],
   "source": [
    "binomial_distribution(10, 0.5)"
   ]
  },
  {
   "cell_type": "markdown",
   "id": "3c5e2f8b",
   "metadata": {},
   "source": [
    "*Example with 25% probability of success in each trial*"
   ]
  },
  {
   "cell_type": "code",
   "execution_count": 69,
   "id": "6c1c91f7",
   "metadata": {
    "scrolled": false
   },
   "outputs": [
    {
     "data": {
      "image/png": "[encoded data removed]",
      "text/plain": [
       "<Figure size 864x432 with 2 Axes>"
      ]
     },
     "metadata": {
      "needs_background": "light"
     },
     "output_type": "display_data"
    }
   ],
   "source": [
    "binomial_distribution(10, 0.25)"
   ]
  },
  {
   "cell_type": "markdown",
   "id": "7709078e",
   "metadata": {},
   "source": [
    "We can observe how by lowering the percentage of success in each trial, the PMF becomes skewed to the right as the distribution becomes centered around 2 number of success instead of 5, and the step gain of the CDF becomes narrower as the highest CDF is obtained at less than or equal to 4 (around 80% of cumulative probability). \n",
    "\n",
    "The inverse happens as we increase the probability of success to 75% in each trial, as shown below."
   ]
  },
  {
   "cell_type": "markdown",
   "id": "79595c19",
   "metadata": {},
   "source": [
    "*Example with 75% probability of success in each trial*"
   ]
  },
  {
   "cell_type": "code",
   "execution_count": 70,
   "id": "cb090ddb",
   "metadata": {},
   "outputs": [
    {
     "data": {
      "image/png": "[encoded data removed]",
      "text/plain": [
       "<Figure size 864x432 with 2 Axes>"
      ]
     },
     "metadata": {
      "needs_background": "light"
     },
     "output_type": "display_data"
    }
   ],
   "source": [
    "binomial_distribution(10, 0.75)"
   ]
  },
  {
   "cell_type": "markdown",
   "id": "444ca303",
   "metadata": {},
   "source": [
    "<div style=\"background-color: NavajoWhite; border-style: solid;font-family: Arial\">\n",
    "    \n",
    "## Multinomial distribution\n",
    "    \n",
    "</div>\n"
   ]
  },
  {
   "cell_type": "markdown",
   "id": "3e911688",
   "metadata": {},
   "source": [
    "The binomial distribution can be generalized to multiple categories. In each independent trial, there is more than two possible outcomes unlike the binomial distribution where solely two outcomes are possible. \n",
    "For example, a survey with five different answers (Totally agree, agree, neutral, disagree, totally disagree) can be modeled under a multinomial distribution."
   ]
  },
  {
   "cell_type": "markdown",
   "id": "040184b8",
   "metadata": {},
   "source": [
    "*Probability Mass Function (PMF)*\n",
    "$$\n",
    "P(X_1 = x_1, X_2 = x_2, \\ldots, X_k = x_k) = \\frac{{n!}}{{x_1! \\cdot x_2! \\cdot \\ldots \\cdot x_k!}} \\cdot p_1^{x_1} \\cdot p_2^{x_2} \\cdot \\ldots \\cdot p_k^{x_k} \n",
    "$$\n",
    "\n",
    "$$\\text{where}$$\n",
    "\n",
    "$$\\text{X_1, X_2,.., X_k : counts of each category }$$\n",
    "$$\\text{n : number of trials}$$\n",
    "$$ x_1, x_2,..., x_k : \\text{observed count of each category} $$\n",
    "$$ p_1, p_2,.., p_k: \\text{probability of each category} $$"
   ]
  },
  {
   "cell_type": "code",
   "execution_count": 195,
   "id": "8a0e0d1e",
   "metadata": {},
   "outputs": [],
   "source": [
    "def multinomial_distribution(n: int, p: list):\n",
    "    \"\"\"\n",
    "    Calculate and plot the multinomial distribution.\n",
    "\n",
    "    Parameters:\n",
    "        n (int): Total number of trials.\n",
    "        p (list): List of probabilities for each category.\n",
    "\n",
    "    Returns:\n",
    "        PMF\n",
    "    \"\"\"\n",
    "    outcomes = [int(x*n) for x in p]\n",
    "    print(outcomes)\n",
    "    pmf = stats.multinomial.pmf(x=outcomes, n=n, p=p)\n",
    "    pmf = round(pmf, 5)\n",
    "    return pmf"
   ]
  },
  {
   "cell_type": "markdown",
   "id": "f7455ada",
   "metadata": {},
   "source": [
    "Suppose a survey has the following options : Totally agree, agree, neutral, disagree, totally disagree.\n",
    "We ask 100 people about their opinion regarding a relevant subject. \n",
    "\n",
    "If we randomly select 100 people to participate, what is the probability that all 30% totally agree, 30% agree, 10% neutral,\n",
    "20% desagree, 20% totally desagree?"
   ]
  },
  {
   "cell_type": "code",
   "execution_count": 207,
   "id": "6a52435f",
   "metadata": {
    "scrolled": false
   },
   "outputs": [
    {
     "name": "stdout",
     "output_type": "stream",
     "text": [
      "[30, 30, 10, 10, 20]\n"
     ]
    },
    {
     "data": {
      "text/plain": [
       "0.00018"
      ]
     },
     "execution_count": 207,
     "metadata": {},
     "output_type": "execute_result"
    }
   ],
   "source": [
    "multinomial_distribution(n=100, p=[.3, .3, .1, .1, .2])"
   ]
  },
  {
   "cell_type": "markdown",
   "id": "6b1bb7ac-dfc9-4324-852e-b75a54619b38",
   "metadata": {},
   "source": [
    "<div style=\"background-color: NavajoWhite; border-style: solid;font-family: Arial\">\n",
    "    \n",
    "## Bernoulli\n",
    "    \n",
    "</div>"
   ]
  },
  {
   "cell_type": "code",
   "execution_count": null,
   "id": "5173be67-46e1-4195-99e1-276b49cb2002",
   "metadata": {},
   "outputs": [],
   "source": []
  },
  {
   "cell_type": "markdown",
   "id": "f0f0af9b-008c-4c59-9841-76640a6fa13d",
   "metadata": {},
   "source": [
    "<div style=\"background-color: NavajoWhite; border-style: solid;font-family: Arial\">\n",
    "    \n",
    "## Poisson distribution\n",
    "    \n",
    "</div>"
   ]
  },
  {
   "cell_type": "code",
   "execution_count": null,
   "id": "1e7c79cf-3fae-464c-a9bd-960ccaf34295",
   "metadata": {},
   "outputs": [],
   "source": []
  },
  {
   "cell_type": "markdown",
   "id": "fa8ef1dd-e797-4b04-8654-78bb00cf914c",
   "metadata": {},
   "source": [
    "<div style=\"background-color: NavajoWhite; border-style: solid;font-family: Arial\">\n",
    "    \n",
    "## Normal (Gaussian) distribution\n",
    "    \n",
    "</div>"
   ]
  },
  {
   "cell_type": "code",
   "execution_count": null,
   "id": "fe7ff56f-7485-4dcd-8ded-04ac944a7ac0",
   "metadata": {},
   "outputs": [],
   "source": []
  },
  {
   "cell_type": "markdown",
   "id": "5dc5de54-db86-4bfa-81a9-b64893cde16e",
   "metadata": {},
   "source": [
    "<div style=\"background-color: NavajoWhite; border-style: solid;font-family: Arial\">\n",
    "    \n",
    "## T distribution\n",
    "    \n",
    "</div>"
   ]
  },
  {
   "cell_type": "code",
   "execution_count": null,
   "id": "4a8e7271-8eb6-4cbb-add8-02b6ac41a886",
   "metadata": {},
   "outputs": [],
   "source": []
  },
  {
   "cell_type": "markdown",
   "id": "cc180b19-935a-4eaa-86e2-5f835bb3c820",
   "metadata": {},
   "source": [
    "<div style=\"background-color: NavajoWhite; border-style: solid;font-family: Arial\">\n",
    "    \n",
    "## F distribution\n",
    "    \n",
    "</div>"
   ]
  },
  {
   "cell_type": "code",
   "execution_count": null,
   "id": "2843cd44-049f-4028-a3bb-1903949564a6",
   "metadata": {},
   "outputs": [],
   "source": []
  },
  {
   "cell_type": "markdown",
   "id": "e40671d0-a8c8-4fc6-bcc4-828612d4a7e6",
   "metadata": {},
   "source": [
    "<div style=\"background-color: NavajoWhite; border-style: solid;font-family: Arial\">\n",
    "    \n",
    "## Chi-Square distribution\n",
    "    \n",
    "</div>"
   ]
  },
  {
   "cell_type": "code",
   "execution_count": null,
   "id": "cd1a2d74-8d28-42fd-bef7-974ebae1b068",
   "metadata": {},
   "outputs": [],
   "source": []
  },
  {
   "cell_type": "markdown",
   "id": "a51d572e-7063-4392-aa59-7139090895cf",
   "metadata": {},
   "source": [
    "<div style=\"background-color: NavajoWhite; border-style: solid;font-family: Arial\">\n",
    "    \n",
    "## Exponential distribution\n",
    "    \n",
    "</div>"
   ]
  },
  {
   "cell_type": "code",
   "execution_count": null,
   "id": "79bd2bc2-39f4-4251-b47a-2b17bde140a2",
   "metadata": {},
   "outputs": [],
   "source": []
  },
  {
   "cell_type": "markdown",
   "id": "d45384c2-024a-4e4a-9ee4-94233e919e93",
   "metadata": {},
   "source": [
    "<div style=\"background-color: NavajoWhite; border-style: solid;font-family: Arial\">\n",
    "    \n",
    "## Exponential distribution\n",
    "    \n",
    "</div>"
   ]
  },
  {
   "cell_type": "code",
   "execution_count": null,
   "id": "65cb6f30-93e1-462d-ab98-766c11c8a002",
   "metadata": {},
   "outputs": [],
   "source": []
  },
  {
   "cell_type": "markdown",
   "id": "e0f0e496-9938-4ee0-8102-110669433a5a",
   "metadata": {},
   "source": [
    "<div style=\"background-color: NavajoWhite; border-style: solid;font-family: Arial\">\n",
    "    \n",
    "## Log-normal distribution\n",
    "    \n",
    "</div>"
   ]
  },
  {
   "cell_type": "code",
   "execution_count": null,
   "id": "2102584c-9511-4689-a8dc-3fbd878754e6",
   "metadata": {},
   "outputs": [],
   "source": []
  },
  {
   "cell_type": "markdown",
   "id": "8ba3910f-fb6c-4644-a023-3bdb1abae29f",
   "metadata": {},
   "source": [
    "<div style=\"background-color: NavajoWhite; border-style: solid;font-family: Arial\">\n",
    "    \n",
    "## Beta distribution\n",
    "    \n",
    "</div>"
   ]
  },
  {
   "cell_type": "code",
   "execution_count": null,
   "id": "ebe5d4cc-de37-41ef-a127-36987b0bfa85",
   "metadata": {},
   "outputs": [],
   "source": []
  },
  {
   "cell_type": "markdown",
   "id": "105ea571-8246-44a0-9917-94c8a01bdaa3",
   "metadata": {},
   "source": [
    "<div style=\"background-color: NavajoWhite; border-style: solid;font-family: Arial\">\n",
    "    \n",
    "## Gamma distribution\n",
    "    \n",
    "</div>"
   ]
  },
  {
   "cell_type": "code",
   "execution_count": null,
   "id": "db0357ad-aa88-43ff-9915-b40e925585f9",
   "metadata": {},
   "outputs": [],
   "source": []
  },
  {
   "cell_type": "markdown",
   "id": "81aea6a4-86dd-411a-b96b-0237455b0bcf",
   "metadata": {},
   "source": [
    "<div style=\"background-color: NavajoWhite; border-style: solid;font-family: Arial\">\n",
    "    \n",
    "## Weibull distribution\n",
    "    \n",
    "</div>"
   ]
  },
  {
   "cell_type": "code",
   "execution_count": null,
   "id": "24d82873-0c8d-45b7-ba42-eb5352ba8d7d",
   "metadata": {},
   "outputs": [],
   "source": []
  },
  {
   "cell_type": "markdown",
   "id": "6c49f82e-a95a-4c52-8f87-2f62c3e4d946",
   "metadata": {},
   "source": [
    "<div style=\"background-color: NavajoWhite; border-style: solid;font-family: Arial\">\n",
    "    \n",
    "## Largest extreme value distribution\n",
    "    \n",
    "</div>"
   ]
  },
  {
   "cell_type": "code",
   "execution_count": null,
   "id": "c7de0862-f863-42c0-8d98-75de72f77514",
   "metadata": {},
   "outputs": [],
   "source": []
  }
 ],
 "metadata": {
  "kernelspec": {
   "display_name": "Python 3 (ipykernel)",
   "language": "python",
   "name": "python3"
  },
  "language_info": {
   "codemirror_mode": {
    "name": "ipython",
    "version": 3
   },
   "file_extension": ".py",
   "mimetype": "text/x-python",
   "name": "python",
   "nbconvert_exporter": "python",
   "pygments_lexer": "ipython3",
   "version": "3.9.12"
  },
  "toc": {
   "base_numbering": 1,
   "nav_menu": {},
   "number_sections": true,
   "sideBar": true,
   "skip_h1_title": false,
   "title_cell": "Table of Contents",
   "title_sidebar": "Contents",
   "toc_cell": false,
   "toc_position": {},
   "toc_section_display": true,
   "toc_window_display": true
  }
 },
 "nbformat": 4,
 "nbformat_minor": 5
}
